{
 "cells": [
  {
   "cell_type": "code",
   "execution_count": 0,
   "metadata": {},
   "outputs": [],
   "source": [
    "from ibm_quantum_widgets import CircuitComposer\n",
    "from qiskit import QuantumRegister, ClassicalRegister, QuantumCircuit\n",
    "from numpy import pi\n",
    "\n",
    "qreg_q = QuantumRegister(5, 'q')\n",
    "creg_c = ClassicalRegister(3, 'c')\n",
    "circuit = QuantumCircuit(qreg_q, creg_c)\n",
    "\n",
    "circuit.cx(qreg_q[1], qreg_q[2])\n",
    "circuit.cx(qreg_q[2], qreg_q[1])\n",
    "circuit.cx(qreg_q[1], qreg_q[2])\n",
    "circuit.x(qreg_q[1])\n",
    "circuit.x(qreg_q[1])\n",
    "circuit.x(qreg_q[1])\n",
    "circuit.x(qreg_q[2])\n",
    "circuit.x(qreg_q[2])\n",
    "circuit.x(qreg_q[2])\n",
    "circuit.cx(qreg_q[1], qreg_q[2])\n",
    "circuit.cx(qreg_q[2], qreg_q[1])\n",
    "circuit.cx(qreg_q[1], qreg_q[2])\n",
    "circuit.x(qreg_q[1])\n",
    "circuit.x(qreg_q[1])\n",
    "circuit.x(qreg_q[1])\n",
    "circuit.rz(-4.71238898038469, qreg_q[2])\n",
    "circuit.sx(qreg_q[2])\n",
    "circuit.sx(qreg_q[2])\n",
    "circuit.rz(3.1415926535897927, qreg_q[2])\n",
    "circuit.measure(qreg_q[1], creg_c[1])\n",
    "circuit.measure(qreg_q[2], creg_c[2])\n",
    "circuit.x(qreg_q[2])\n",
    "\n",
    "\n",
    "editor = CircuitComposer(circuit=circuit)\n",
    "editor"
   ]
  }
 ],
 "metadata": {
  "kernelspec": {
   "display_name": "Python 3",
   "language": "python",
   "name": "python3"
  },
  "language_info": {
   "codemirror_mode": {
    "name": "ipython",
    "version": 3
   },
   "file_extension": ".py",
   "mimetype": "text/x-python",
   "name": "python",
   "nbconvert_exporter": "python",
   "pygments_lexer": "ipython3",
   "version": "3.7.8"
  }
 },
 "nbformat": 4,
 "nbformat_minor": 4
}
