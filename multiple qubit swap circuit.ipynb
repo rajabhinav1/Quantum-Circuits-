{
 "cells": [
  {
   "cell_type": "code",
   "execution_count": 0,
   "metadata": {},
   "outputs": [],
   "source": [
    "from ibm_quantum_widgets import CircuitComposer\n",
    "from qiskit import QuantumRegister, ClassicalRegister, QuantumCircuit\n",
    "from numpy import pi\n",
    "\n",
    "qreg_q = QuantumRegister(5, 'q')\n",
    "creg_c = ClassicalRegister(5, 'c')\n",
    "circuit = QuantumCircuit(qreg_q, creg_c)\n",
    "\n",
    "circuit.y(qreg_q[0])\n",
    "circuit.p(pi/2, qreg_q[1])\n",
    "circuit.p(pi/2, qreg_q[4])\n",
    "circuit.p(pi/2, qreg_q[0])\n",
    "circuit.rz(pi/2, qreg_q[1])\n",
    "circuit.id(qreg_q[4])\n",
    "circuit.x(qreg_q[0])\n",
    "circuit.cx(qreg_q[1], qreg_q[2])\n",
    "circuit.u(pi/2, pi/2, pi/2, qreg_q[0])\n",
    "circuit.x(qreg_q[0])\n",
    "circuit.ccx(qreg_q[0], qreg_q[1], qreg_q[2])\n",
    "circuit.sx(qreg_q[0])\n",
    "circuit.x(qreg_q[0])\n",
    "circuit.x(qreg_q[0])\n",
    "circuit.cx(qreg_q[0], qreg_q[1])\n",
    "circuit.p(pi/2, qreg_q[0])\n",
    "circuit.ccx(qreg_q[0], qreg_q[1], qreg_q[2])\n",
    "circuit.x(qreg_q[0])\n",
    "circuit.swap(qreg_q[1], qreg_q[2])\n",
    "circuit.rz(pi/2, qreg_q[0])\n",
    "circuit.swap(qreg_q[2], qreg_q[3])\n",
    "circuit.measure(qreg_q[1], creg_c[1])\n",
    "circuit.measure(qreg_q[3], creg_c[3])\n",
    "\n",
    "\n",
    "editor = CircuitComposer(circuit=circuit)\n",
    "editor"
   ]
  }
 ],
 "metadata": {
  "kernelspec": {
   "display_name": "Python 3",
   "language": "python",
   "name": "python3"
  },
  "language_info": {
   "codemirror_mode": {
    "name": "ipython",
    "version": 3
   },
   "file_extension": ".py",
   "mimetype": "text/x-python",
   "name": "python",
   "nbconvert_exporter": "python",
   "pygments_lexer": "ipython3",
   "version": "3.7.8"
  }
 },
 "nbformat": 4,
 "nbformat_minor": 4
}
